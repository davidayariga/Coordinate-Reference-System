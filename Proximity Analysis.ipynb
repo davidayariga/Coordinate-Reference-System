{
 "cells": [
  {
   "cell_type": "markdown",
   "id": "5d5f11d5",
   "metadata": {},
   "source": [
    "#  Introduction"
   ]
  },
  {
   "cell_type": "markdown",
   "id": "310bb514",
   "metadata": {},
   "source": [
    "Proximity analysis in GIS such as measuring distance between points and creating buffers are very useful analysis. In this notebook, i tried to do the aforementioned analysis using data from the US Environmental Protection agency that tracks chemicals in Pennsylvania, USA. The data was obtained from kaggle.com"
   ]
  },
  {
   "cell_type": "code",
   "execution_count": 27,
   "id": "19d69f18",
   "metadata": {},
   "outputs": [],
   "source": [
    "import folium\n",
    "import webbrowser\n",
    "from folium import Marker, GeoJson\n",
    "from folium.plugins import HeatMap\n",
    "\n",
    "import pandas as pd\n",
    "import geopandas as gpd"
   ]
  },
  {
   "cell_type": "markdown",
   "id": "9145718f",
   "metadata": {},
   "source": [
    "### First, load the dataset and and read them using pandas and geopandas"
   ]
  },
  {
   "cell_type": "code",
   "execution_count": 8,
   "id": "e0c9461f",
   "metadata": {},
   "outputs": [
    {
     "data": {
      "text/html": [
       "<div>\n",
       "<style scoped>\n",
       "    .dataframe tbody tr th:only-of-type {\n",
       "        vertical-align: middle;\n",
       "    }\n",
       "\n",
       "    .dataframe tbody tr th {\n",
       "        vertical-align: top;\n",
       "    }\n",
       "\n",
       "    .dataframe thead th {\n",
       "        text-align: right;\n",
       "    }\n",
       "</style>\n",
       "<table border=\"1\" class=\"dataframe\">\n",
       "  <thead>\n",
       "    <tr style=\"text-align: right;\">\n",
       "      <th></th>\n",
       "      <th>YEAR</th>\n",
       "      <th>CITY</th>\n",
       "      <th>COUNTY</th>\n",
       "      <th>ST</th>\n",
       "      <th>LATITUDE</th>\n",
       "      <th>LONGITUDE</th>\n",
       "      <th>CHEMICAL</th>\n",
       "      <th>UNIT_OF_ME</th>\n",
       "      <th>TOTAL_RELE</th>\n",
       "      <th>geometry</th>\n",
       "    </tr>\n",
       "  </thead>\n",
       "  <tbody>\n",
       "    <tr>\n",
       "      <th>0</th>\n",
       "      <td>2016</td>\n",
       "      <td>PHILADELPHIA</td>\n",
       "      <td>PHILADELPHIA</td>\n",
       "      <td>PA</td>\n",
       "      <td>40.005901</td>\n",
       "      <td>-75.072103</td>\n",
       "      <td>FORMIC ACID</td>\n",
       "      <td>Pounds</td>\n",
       "      <td>0.160</td>\n",
       "      <td>POINT (2718560.227 256380.179)</td>\n",
       "    </tr>\n",
       "    <tr>\n",
       "      <th>1</th>\n",
       "      <td>2016</td>\n",
       "      <td>PHILADELPHIA</td>\n",
       "      <td>PHILADELPHIA</td>\n",
       "      <td>PA</td>\n",
       "      <td>39.920120</td>\n",
       "      <td>-75.146410</td>\n",
       "      <td>ETHYLENE GLYCOL</td>\n",
       "      <td>Pounds</td>\n",
       "      <td>13353.480</td>\n",
       "      <td>POINT (2698674.606 224522.905)</td>\n",
       "    </tr>\n",
       "    <tr>\n",
       "      <th>2</th>\n",
       "      <td>2016</td>\n",
       "      <td>PHILADELPHIA</td>\n",
       "      <td>PHILADELPHIA</td>\n",
       "      <td>PA</td>\n",
       "      <td>40.023880</td>\n",
       "      <td>-75.220450</td>\n",
       "      <td>CERTAIN GLYCOL ETHERS</td>\n",
       "      <td>Pounds</td>\n",
       "      <td>104.135</td>\n",
       "      <td>POINT (2676833.394 261701.856)</td>\n",
       "    </tr>\n",
       "    <tr>\n",
       "      <th>3</th>\n",
       "      <td>2016</td>\n",
       "      <td>PHILADELPHIA</td>\n",
       "      <td>PHILADELPHIA</td>\n",
       "      <td>PA</td>\n",
       "      <td>39.913540</td>\n",
       "      <td>-75.198890</td>\n",
       "      <td>LEAD COMPOUNDS</td>\n",
       "      <td>Pounds</td>\n",
       "      <td>1730.280</td>\n",
       "      <td>POINT (2684030.004 221697.388)</td>\n",
       "    </tr>\n",
       "    <tr>\n",
       "      <th>4</th>\n",
       "      <td>2016</td>\n",
       "      <td>PHILADELPHIA</td>\n",
       "      <td>PHILADELPHIA</td>\n",
       "      <td>PA</td>\n",
       "      <td>39.913540</td>\n",
       "      <td>-75.198890</td>\n",
       "      <td>BENZENE</td>\n",
       "      <td>Pounds</td>\n",
       "      <td>39863.290</td>\n",
       "      <td>POINT (2684030.004 221697.388)</td>\n",
       "    </tr>\n",
       "  </tbody>\n",
       "</table>\n",
       "</div>"
      ],
      "text/plain": [
       "   YEAR          CITY        COUNTY  ST   LATITUDE  LONGITUDE  \\\n",
       "0  2016  PHILADELPHIA  PHILADELPHIA  PA  40.005901 -75.072103   \n",
       "1  2016  PHILADELPHIA  PHILADELPHIA  PA  39.920120 -75.146410   \n",
       "2  2016  PHILADELPHIA  PHILADELPHIA  PA  40.023880 -75.220450   \n",
       "3  2016  PHILADELPHIA  PHILADELPHIA  PA  39.913540 -75.198890   \n",
       "4  2016  PHILADELPHIA  PHILADELPHIA  PA  39.913540 -75.198890   \n",
       "\n",
       "                CHEMICAL UNIT_OF_ME  TOTAL_RELE  \\\n",
       "0            FORMIC ACID     Pounds       0.160   \n",
       "1        ETHYLENE GLYCOL     Pounds   13353.480   \n",
       "2  CERTAIN GLYCOL ETHERS     Pounds     104.135   \n",
       "3         LEAD COMPOUNDS     Pounds    1730.280   \n",
       "4                BENZENE     Pounds   39863.290   \n",
       "\n",
       "                         geometry  \n",
       "0  POINT (2718560.227 256380.179)  \n",
       "1  POINT (2698674.606 224522.905)  \n",
       "2  POINT (2676833.394 261701.856)  \n",
       "3  POINT (2684030.004 221697.388)  \n",
       "4  POINT (2684030.004 221697.388)  "
      ]
     },
     "execution_count": 8,
     "metadata": {},
     "output_type": "execute_result"
    }
   ],
   "source": [
    "release = gpd.read_file(\"C:/Users/Petra/Downloads/toxic_release_pennsylvania/toxic_release_pennsylvania.shp\")\n",
    "release.head()"
   ]
  },
  {
   "cell_type": "markdown",
   "id": "7857629a",
   "metadata": {},
   "source": [
    "Next, since I would have to work with dataset involving readings from air quality monitoring stations in the same city, it is important to also load and read such data"
   ]
  },
  {
   "cell_type": "code",
   "execution_count": 9,
   "id": "08ba13ab",
   "metadata": {},
   "outputs": [
    {
     "data": {
      "text/html": [
       "<div>\n",
       "<style scoped>\n",
       "    .dataframe tbody tr th:only-of-type {\n",
       "        vertical-align: middle;\n",
       "    }\n",
       "\n",
       "    .dataframe tbody tr th {\n",
       "        vertical-align: top;\n",
       "    }\n",
       "\n",
       "    .dataframe thead th {\n",
       "        text-align: right;\n",
       "    }\n",
       "</style>\n",
       "<table border=\"1\" class=\"dataframe\">\n",
       "  <thead>\n",
       "    <tr style=\"text-align: right;\">\n",
       "      <th></th>\n",
       "      <th>SITE_NAME</th>\n",
       "      <th>ADDRESS</th>\n",
       "      <th>BLACK_CARB</th>\n",
       "      <th>ULTRAFINE_</th>\n",
       "      <th>CO</th>\n",
       "      <th>SO2</th>\n",
       "      <th>OZONE</th>\n",
       "      <th>NO2</th>\n",
       "      <th>NOY_NO</th>\n",
       "      <th>PM10</th>\n",
       "      <th>...</th>\n",
       "      <th>PAMS_VOC</th>\n",
       "      <th>TSP_11101</th>\n",
       "      <th>TSP_METALS</th>\n",
       "      <th>TSP_LEAD</th>\n",
       "      <th>TOXICS_TO1</th>\n",
       "      <th>MET</th>\n",
       "      <th>COMMUNITY_</th>\n",
       "      <th>LATITUDE</th>\n",
       "      <th>LONGITUDE</th>\n",
       "      <th>geometry</th>\n",
       "    </tr>\n",
       "  </thead>\n",
       "  <tbody>\n",
       "    <tr>\n",
       "      <th>0</th>\n",
       "      <td>LAB</td>\n",
       "      <td>1501 East Lycoming Avenue</td>\n",
       "      <td>N</td>\n",
       "      <td>N</td>\n",
       "      <td>Y</td>\n",
       "      <td>N</td>\n",
       "      <td>Y</td>\n",
       "      <td>Y</td>\n",
       "      <td>Y</td>\n",
       "      <td>N</td>\n",
       "      <td>...</td>\n",
       "      <td>Y</td>\n",
       "      <td>N</td>\n",
       "      <td>Y</td>\n",
       "      <td>N</td>\n",
       "      <td>y</td>\n",
       "      <td>N</td>\n",
       "      <td>N</td>\n",
       "      <td>40.008606</td>\n",
       "      <td>-75.097624</td>\n",
       "      <td>POINT (2711384.641 257149.310)</td>\n",
       "    </tr>\n",
       "    <tr>\n",
       "      <th>1</th>\n",
       "      <td>ROX</td>\n",
       "      <td>Eva and Dearnley Streets</td>\n",
       "      <td>N</td>\n",
       "      <td>N</td>\n",
       "      <td>N</td>\n",
       "      <td>N</td>\n",
       "      <td>N</td>\n",
       "      <td>N</td>\n",
       "      <td>N</td>\n",
       "      <td>N</td>\n",
       "      <td>...</td>\n",
       "      <td>N</td>\n",
       "      <td>N</td>\n",
       "      <td>Y</td>\n",
       "      <td>N</td>\n",
       "      <td>Y</td>\n",
       "      <td>N</td>\n",
       "      <td>N</td>\n",
       "      <td>40.050461</td>\n",
       "      <td>-75.236966</td>\n",
       "      <td>POINT (2671934.290 271248.900)</td>\n",
       "    </tr>\n",
       "    <tr>\n",
       "      <th>2</th>\n",
       "      <td>NEA</td>\n",
       "      <td>Grant Avenue and Ashton Street</td>\n",
       "      <td>N</td>\n",
       "      <td>N</td>\n",
       "      <td>N</td>\n",
       "      <td>N</td>\n",
       "      <td>Y</td>\n",
       "      <td>N</td>\n",
       "      <td>N</td>\n",
       "      <td>N</td>\n",
       "      <td>...</td>\n",
       "      <td>N</td>\n",
       "      <td>N</td>\n",
       "      <td>N</td>\n",
       "      <td>N</td>\n",
       "      <td>N</td>\n",
       "      <td>Y</td>\n",
       "      <td>N</td>\n",
       "      <td>40.072073</td>\n",
       "      <td>-75.013128</td>\n",
       "      <td>POINT (2734326.638 280980.247)</td>\n",
       "    </tr>\n",
       "    <tr>\n",
       "      <th>3</th>\n",
       "      <td>CHS</td>\n",
       "      <td>500 South Broad Street</td>\n",
       "      <td>N</td>\n",
       "      <td>N</td>\n",
       "      <td>N</td>\n",
       "      <td>N</td>\n",
       "      <td>N</td>\n",
       "      <td>N</td>\n",
       "      <td>N</td>\n",
       "      <td>N</td>\n",
       "      <td>...</td>\n",
       "      <td>N</td>\n",
       "      <td>N</td>\n",
       "      <td>Y</td>\n",
       "      <td>N</td>\n",
       "      <td>Y</td>\n",
       "      <td>N</td>\n",
       "      <td>N</td>\n",
       "      <td>39.944510</td>\n",
       "      <td>-75.165442</td>\n",
       "      <td>POINT (2693078.580 233247.101)</td>\n",
       "    </tr>\n",
       "    <tr>\n",
       "      <th>4</th>\n",
       "      <td>NEW</td>\n",
       "      <td>2861 Lewis Street</td>\n",
       "      <td>N</td>\n",
       "      <td>N</td>\n",
       "      <td>Y</td>\n",
       "      <td>Y</td>\n",
       "      <td>Y</td>\n",
       "      <td>N</td>\n",
       "      <td>Y</td>\n",
       "      <td>Y</td>\n",
       "      <td>...</td>\n",
       "      <td>N</td>\n",
       "      <td>Y</td>\n",
       "      <td>N</td>\n",
       "      <td>Y</td>\n",
       "      <td>N</td>\n",
       "      <td>Y</td>\n",
       "      <td>N</td>\n",
       "      <td>39.991688</td>\n",
       "      <td>-75.080378</td>\n",
       "      <td>POINT (2716399.773 251134.976)</td>\n",
       "    </tr>\n",
       "  </tbody>\n",
       "</table>\n",
       "<p>5 rows × 24 columns</p>\n",
       "</div>"
      ],
      "text/plain": [
       "  SITE_NAME                         ADDRESS BLACK_CARB ULTRAFINE_ CO SO2  \\\n",
       "0       LAB       1501 East Lycoming Avenue          N          N  Y   N   \n",
       "1       ROX        Eva and Dearnley Streets          N          N  N   N   \n",
       "2       NEA  Grant Avenue and Ashton Street          N          N  N   N   \n",
       "3       CHS          500 South Broad Street          N          N  N   N   \n",
       "4       NEW               2861 Lewis Street          N          N  Y   Y   \n",
       "\n",
       "  OZONE NO2 NOY_NO PM10  ... PAMS_VOC TSP_11101 TSP_METALS TSP_LEAD  \\\n",
       "0     Y   Y      Y    N  ...        Y         N          Y        N   \n",
       "1     N   N      N    N  ...        N         N          Y        N   \n",
       "2     Y   N      N    N  ...        N         N          N        N   \n",
       "3     N   N      N    N  ...        N         N          Y        N   \n",
       "4     Y   N      Y    Y  ...        N         Y          N        Y   \n",
       "\n",
       "  TOXICS_TO1 MET COMMUNITY_   LATITUDE  LONGITUDE  \\\n",
       "0          y   N          N  40.008606 -75.097624   \n",
       "1          Y   N          N  40.050461 -75.236966   \n",
       "2          N   Y          N  40.072073 -75.013128   \n",
       "3          Y   N          N  39.944510 -75.165442   \n",
       "4          N   Y          N  39.991688 -75.080378   \n",
       "\n",
       "                         geometry  \n",
       "0  POINT (2711384.641 257149.310)  \n",
       "1  POINT (2671934.290 271248.900)  \n",
       "2  POINT (2734326.638 280980.247)  \n",
       "3  POINT (2693078.580 233247.101)  \n",
       "4  POINT (2716399.773 251134.976)  \n",
       "\n",
       "[5 rows x 24 columns]"
      ]
     },
     "execution_count": 9,
     "metadata": {},
     "output_type": "execute_result"
    }
   ],
   "source": [
    "stations = gpd.read_file(\"C:/Users/Petra/Downloads/PhillyHealth_Air_Monitoring_Stations/PhillyHealth_Air_Monitoring_Stations.shp\")\n",
    "stations.head()"
   ]
  },
  {
   "cell_type": "markdown",
   "id": "308e2730",
   "metadata": {},
   "source": [
    "# Measuring distance"
   ]
  },
  {
   "cell_type": "markdown",
   "id": "e1075812",
   "metadata": {},
   "source": [
    "### To measure distances between points from two different GeoDataFrames, it is important to make sure they use the same coordinate reference system (CRS). "
   ]
  },
  {
   "cell_type": "code",
   "execution_count": 11,
   "id": "f508cadf",
   "metadata": {},
   "outputs": [
    {
     "name": "stdout",
     "output_type": "stream",
     "text": [
      "epsg:2272\n",
      "epsg:2272\n"
     ]
    }
   ],
   "source": [
    "print(stations.crs)\n",
    "print(release.crs)"
   ]
  },
  {
   "cell_type": "markdown",
   "id": "e9b1ce32",
   "metadata": {},
   "source": [
    "### Now that it is confirmed that both shapefiles uses the same CRS, one can now go ahead to conduct distance calculations in the GeoDataFrame using recent_release and Stations"
   ]
  },
  {
   "cell_type": "code",
   "execution_count": 15,
   "id": "9066e336",
   "metadata": {},
   "outputs": [
    {
     "name": "stdout",
     "output_type": "stream",
     "text": [
      "0     44778.509761\n",
      "1     51006.456589\n",
      "2     77744.509207\n",
      "3     14672.170878\n",
      "4     43753.554393\n",
      "5      4711.658655\n",
      "6     23197.430858\n",
      "7     12072.823097\n",
      "8     79081.825506\n",
      "9      3780.623591\n",
      "10    27577.474903\n",
      "11    19818.381002\n",
      "dtype: float64\n"
     ]
    }
   ],
   "source": [
    "# Select one release incident\n",
    "recent_release = release.iloc[360]\n",
    "\n",
    "# measure the distance from release to each station\n",
    "\n",
    "distance = stations.geometry.distance(recent_release.geometry)\n",
    "print(distance)"
   ]
  },
  {
   "cell_type": "markdown",
   "id": "263579d8",
   "metadata": {},
   "source": [
    "### These distances are in Feet since the epsg 2272 is in NAD83. I would prefer to work in meters. Thus a conversion has to be carried out. 1ft = 0.3048"
   ]
  },
  {
   "cell_type": "code",
   "execution_count": 17,
   "id": "0ea82dff",
   "metadata": {},
   "outputs": [
    {
     "name": "stdout",
     "output_type": "stream",
     "text": [
      "0     13648.489775\n",
      "1     15546.767968\n",
      "2     23696.526406\n",
      "3      4472.077684\n",
      "4     13336.083379\n",
      "5      1436.113558\n",
      "6      7070.576926\n",
      "7      3679.796480\n",
      "8     24104.140414\n",
      "9      1152.334070\n",
      "10     8405.614351\n",
      "11     6040.642529\n",
      "dtype: float64\n"
     ]
    }
   ],
   "source": [
    "recent_release = release.iloc[360]\n",
    "distance_meters = stations.geometry.distance(recent_release.geometry)*0.3048\n",
    "print(distance_meters)"
   ]
  },
  {
   "cell_type": "markdown",
   "id": "bd57284d",
   "metadata": {},
   "source": [
    "### Now, having estimated the distance of each release to a station, one can now go ahead to calculate the mean distance to each monitoring station"
   ]
  },
  {
   "cell_type": "code",
   "execution_count": 18,
   "id": "d9eaae4f",
   "metadata": {},
   "outputs": [
    {
     "name": "stdout",
     "output_type": "stream",
     "text": [
      "Mean distance to monitoring station: 10215.763628399733 meters\n"
     ]
    }
   ],
   "source": [
    "print('Mean distance to monitoring station: {} meters'.format(distance.mean()))"
   ]
  },
  {
   "cell_type": "markdown",
   "id": "3117e649",
   "metadata": {},
   "source": [
    "### I can also determine the closest monitoring station"
   ]
  },
  {
   "cell_type": "code",
   "execution_count": 23,
   "id": "ced94ad7",
   "metadata": {
    "scrolled": false
   },
   "outputs": [
    {
     "name": "stdout",
     "output_type": "stream",
     "text": [
      "Closest monitoring station(1152.334070401604 meters):\n",
      "ADDRESS      3100 Penrose Ferry Road\n",
      "LATITUDE                    39.91279\n",
      "LONGITUDE                 -75.185448\n",
      "Name: 9, dtype: object\n"
     ]
    }
   ],
   "source": [
    "print('Closest monitoring station({} meters):'.format(distance_meters.min()))\n",
    "print(stations.iloc[distance.idxmin()][[\"ADDRESS\", \"LATITUDE\", \"LONGITUDE\"]])"
   ]
  },
  {
   "cell_type": "markdown",
   "id": "e19e4e5f",
   "metadata": {},
   "source": [
    "# Now I can also do buffer analysis"
   ]
  },
  {
   "cell_type": "markdown",
   "id": "5b2efa47",
   "metadata": {},
   "source": [
    "### In this instance I would like to create a 2 Km buffer around each of the 12 air monitoring stations (2*1609.344 meters)"
   ]
  },
  {
   "cell_type": "code",
   "execution_count": 24,
   "id": "bc20b3e7",
   "metadata": {},
   "outputs": [
    {
     "data": {
      "text/plain": [
       "0    POLYGON ((2714602.641 257149.310, 2714602.607 ...\n",
       "1    POLYGON ((2675152.290 271248.900, 2675152.256 ...\n",
       "2    POLYGON ((2737544.638 280980.247, 2737544.605 ...\n",
       "3    POLYGON ((2696296.580 233247.101, 2696296.546 ...\n",
       "4    POLYGON ((2719617.773 251134.976, 2719617.739 ...\n",
       "dtype: geometry"
      ]
     },
     "execution_count": 24,
     "metadata": {},
     "output_type": "execute_result"
    }
   ],
   "source": [
    "two_km_buffer = stations.geometry.buffer(2*1609,344)\n",
    "two_km_buffer.head()"
   ]
  },
  {
   "cell_type": "markdown",
   "id": "823eb1ae",
   "metadata": {},
   "source": [
    "### Next I can use the folium.GeoJson() to plot each polygon to a map. Before plotting I would have to convert the CRS to epsg 4326 since that is required in folium "
   ]
  },
  {
   "cell_type": "code",
   "execution_count": 31,
   "id": "65853a6c",
   "metadata": {},
   "outputs": [
    {
     "name": "stdout",
     "output_type": "stream",
     "text": [
      "<folium.folium.Map object at 0x000001AD33FE2760>\n"
     ]
    }
   ],
   "source": [
    "m = folium.Map(location=[39.9526, -75.1652], zoom_start=11)\n",
    "HeatMap(data=release[['LATITUDE', 'LONGITUDE']], radius=15).add_to(m)\n",
    "for idx, row in stations.iterrows():\n",
    "    Marker([row['LATITUDE'], row['LONGITUDE']]).add_to(m)\n",
    "    \n",
    "# Now I can plot each polygon on the map\n",
    "GeoJson(two_km_buffer.to_crs(epsg=4326)).add_to(m)\n",
    "print(m)"
   ]
  },
  {
   "cell_type": "code",
   "execution_count": 36,
   "id": "f9e8fc0d",
   "metadata": {},
   "outputs": [],
   "source": [
    "import folium\n",
    "import webbrowser\n",
    "\n",
    "map = folium.Map(location=[39.9526, -75.1652], zoom_start=11)\n",
    "HeatMap(data=release[['LATITUDE', 'LONGITUDE']], radius=15).add_to(map)\n",
    "for idx, row in stations.iterrows():\n",
    "    Marker([row['LATITUDE'], row['LONGITUDE']]).add_to(map)\n",
    "class Map:\n",
    "    def __init__(self, center, zoom_start):\n",
    "        self.center = center\n",
    "        self.zoom_start = zoom_start\n",
    "    \n",
    "    def showMap(self):\n",
    "        #Create the map\n",
    "        my_map = folium.Map(location = self.center, zoom_start = self.zoom_start)\n",
    "\n",
    "        #Display the map\n",
    "        my_map.save(\"map.html\")\n",
    "        webbrowser.open(\"map.html\")\n",
    "\n",
    "#Define coordinates of where we want to center our map\n",
    "coords = [39.9526, -75.1652]\n",
    "map = Map(center = coords, zoom_start = 11)\n",
    "map.showMap()"
   ]
  },
  {
   "cell_type": "code",
   "execution_count": 37,
   "id": "e923723f",
   "metadata": {},
   "outputs": [
    {
     "name": "stdout",
     "output_type": "stream",
     "text": [
      "Type: <class 'shapely.geometry.multipolygon.MultiPolygon'>\n"
     ]
    }
   ],
   "source": [
    "my_union = two_km_buffer.geometry.unary_union\n",
    "print('Type:', type(my_union))"
   ]
  },
  {
   "cell_type": "code",
   "execution_count": null,
   "id": "e8fdc4c6",
   "metadata": {},
   "outputs": [],
   "source": []
  }
 ],
 "metadata": {
  "kernelspec": {
   "display_name": "Python 3 (ipykernel)",
   "language": "python",
   "name": "python3"
  },
  "language_info": {
   "codemirror_mode": {
    "name": "ipython",
    "version": 3
   },
   "file_extension": ".py",
   "mimetype": "text/x-python",
   "name": "python",
   "nbconvert_exporter": "python",
   "pygments_lexer": "ipython3",
   "version": "3.8.10"
  }
 },
 "nbformat": 4,
 "nbformat_minor": 5
}
