{
 "cells": [
  {
   "cell_type": "markdown",
   "id": "3d627f12",
   "metadata": {},
   "source": [
    "# Crop Type Classification Challenge"
   ]
  },
  {
   "cell_type": "markdown",
   "id": "f291b972",
   "metadata": {},
   "source": [
    "## A guide to accessing the data on Radiant MLHub"
   ]
  },
  {
   "cell_type": "markdown",
   "id": "1d56a49b",
   "metadata": {},
   "source": [
    "In 2020 Radiant MLHub hosted a machine learning challenge in which participants were to design a machine learning model that will detect and classify crops in Kenya. The notebook below is a step-by-step process to accessing  the data for the competition."
   ]
  },
  {
   "cell_type": "markdown",
   "id": "8a704718",
   "metadata": {},
   "source": [
    "**Installing the required libraries and dependencies**"
   ]
  },
  {
   "cell_type": "markdown",
   "id": "193ed298",
   "metadata": {},
   "source": [
    "Since the competition utilizes the radiant-mlhub Python client for interacting with the API, I had to install the radiant-mlhub in anaconda prompt in my vitual environment. "
   ]
  },
  {
   "cell_type": "code",
   "execution_count": 2,
   "id": "ef18bea5",
   "metadata": {},
   "outputs": [],
   "source": [
    "# Required libraries\n",
    "from radiant_mlhub import Dataset, client\n",
    "import tarfile\n",
    "from pathlib import Path"
   ]
  },
  {
   "cell_type": "markdown",
   "id": "bf4d104b",
   "metadata": {},
   "source": [
    "Since access to the dataset depends on one having a MLHUB API Key, I had to create an account that gives me access to the labelled data "
   ]
  },
  {
   "cell_type": "code",
   "execution_count": 3,
   "id": "8716a2a3",
   "metadata": {},
   "outputs": [],
   "source": [
    "import os\n",
    "\n",
    "os.environ['MLHUB_API_KEY'] = ' MY MLHUB_API_KEY'"
   ]
  },
  {
   "cell_type": "markdown",
   "id": "d9e8baef",
   "metadata": {},
   "source": [
    "### Retrieving the dataset"
   ]
  },
  {
   "cell_type": "markdown",
   "id": "d39f3442",
   "metadata": {},
   "source": [
    "The code below gave me access to the catalog of dataset for the competition called `ref_african_crops_kenya_02`"
   ]
  },
  {
   "cell_type": "code",
   "execution_count": 4,
   "id": "8be88ece",
   "metadata": {
    "scrolled": true
   },
   "outputs": [
    {
     "name": "stdout",
     "output_type": "stream",
     "text": [
      "ID: ref_african_crops_kenya_02\n",
      "Title: CV4A Kenya Crop Type Competition\n",
      "Collections:\n",
      "* ref_african_crops_kenya_02_labels\n",
      "* ref_african_crops_kenya_02_source\n"
     ]
    }
   ],
   "source": [
    "dataset = Dataset.fetch('ref_african_crops_kenya_02')\n",
    "\n",
    "print(f'ID: {dataset.id}')\n",
    "print(f'Title: {dataset.title}')\n",
    "print('Collections:')\n",
    "for collection in dataset.collections:\n",
    "    print(f'* {collection.id}')"
   ]
  },
  {
   "cell_type": "markdown",
   "id": "90998c8a",
   "metadata": {},
   "source": [
    "I then proceeded to specify the storage path for the data to be downloaded to"
   ]
  },
  {
   "cell_type": "code",
   "execution_count": 5,
   "id": "a942bd3d",
   "metadata": {},
   "outputs": [],
   "source": [
    "# output path where you want to download the data\n",
    "output_path = Path(\".../RadiantHub\").resolve()"
   ]
  },
  {
   "cell_type": "code",
   "execution_count": 6,
   "id": "d93f2ecb",
   "metadata": {},
   "outputs": [
    {
     "data": {
      "application/vnd.jupyter.widget-view+json": {
       "model_id": "7b9767c656904258abf2ca74aaffcf3b",
       "version_major": 2,
       "version_minor": 0
      },
      "text/plain": [
       "  0%|          | 0/0.3 [00:00<?, ?M/s]"
      ]
     },
     "metadata": {},
     "output_type": "display_data"
    },
    {
     "data": {
      "application/vnd.jupyter.widget-view+json": {
       "model_id": "6544c6d0300448e6a8d40cd207ac32b5",
       "version_major": 2,
       "version_minor": 0
      },
      "text/plain": [
       "  0%|          | 0/3739.1 [00:00<?, ?M/s]"
      ]
     },
     "metadata": {},
     "output_type": "display_data"
    },
    {
     "name": "stdout",
     "output_type": "stream",
     "text": [
      "Extracting C:\\Users\\Petra\\Downloads\\RadiantHub\\ref_african_crops_kenya_02_labels.tar.gz...\n",
      "Extracting C:\\Users\\Petra\\Downloads\\RadiantHub\\ref_african_crops_kenya_02_source.tar.gz...\n",
      "Done\n",
      "\n"
     ]
    }
   ],
   "source": [
    "archive_paths = dataset.download(output_dir=output_path)\n",
    "for archive_path in archive_paths:\n",
    "    print(f'Extracting {archive_path}...')\n",
    "    with tarfile.open(archive_path) as tfile:\n",
    "        tfile.extractall(path=output_path)\n",
    "\n",
    "print('Done\\n')"
   ]
  },
  {
   "cell_type": "code",
   "execution_count": null,
   "id": "f738ff8e",
   "metadata": {},
   "outputs": [],
   "source": []
  }
 ],
 "metadata": {
  "kernelspec": {
   "display_name": "Python 3 (ipykernel)",
   "language": "python",
   "name": "python3"
  },
  "language_info": {
   "codemirror_mode": {
    "name": "ipython",
    "version": 3
   },
   "file_extension": ".py",
   "mimetype": "text/x-python",
   "name": "python",
   "nbconvert_exporter": "python",
   "pygments_lexer": "ipython3",
   "version": "3.8.10"
  }
 },
 "nbformat": 4,
 "nbformat_minor": 5
}
